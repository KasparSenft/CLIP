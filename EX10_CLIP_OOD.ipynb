{
 "cells": [
  {
   "attachments": {},
   "cell_type": "markdown",
   "metadata": {
    "id": "CCfZVwhwMIYN"
   },
   "source": [
    "HHU Deep Learning, SS2022/23, 09.06.2023, Prof. Dr. Markus Kollmann\n",
    "\n",
    "Lecturers and Tutoring is done by Tim Kaiser, Nikolas Adaloglou and Felix Michels.\n",
    "\n",
    "# Assignment 10 - Contrastive Language-Image Pre-training for unsupervised out-of-distribution detection\n",
    "\n",
    "Copyright © 2023 Nikolas Adaloglou, Tim Kaiser and Felix Michels\n",
    "\n",
    "---\n",
    "\n",
    "Submit the solved notebook (not a zip) with your full name plus assingment number for the filename as an indicator, e.g `max_mustermann_a1.ipynb` for assignment 1. Since this assignment spans 2 weeks, completing it is worth 2 points. If we feel like you have genuinely tried to solve the exercise, you will receive 2 point for this assignment, regardless of the quality of your solution, otherwise 0. \n",
    "\n",
    "## <center> DUE FRIDAY 23.06.2023 2:30 pm </center>\n",
    "\n",
    "Drop-off link: [https://uni-duesseldorf.sciebo.de/s/inBTRVg7lLmccdN](https://uni-duesseldorf.sciebo.de/s/inBTRVg7lLmccdN)\n",
    "\n",
    "---\n",
    "\n",
    "## Contents\n",
    "\n",
    "1. Basic imports\n",
    "2. Get the visual features of the CLIP model\n",
    "3. Compute the k-NN similarity as the OOD score\n",
    "4. Compute MSP using the text encoder and the label names\n",
    "5. Linear probing on the pseudolabels\n",
    "6. Mahalanobis distance as OOD score\n",
    "7. Mahalanobis distance using the real labels without linear probing\n",
    "8. K-means clusters combined with Mahalanobis distance"
   ]
  },
  {
   "attachments": {},
   "cell_type": "markdown",
   "metadata": {},
   "source": [
    "---\n",
    "\n",
    "## Overview\n",
    "We will apply the learned representations from Contrastive Language-Image Pretrained (CLIP) on the downstream task of out-of-distribution detection.\n",
    "\n",
    "`Note`: I used the pretrained models from open_clip_torch, you can install it with `!pip install open_clip_torch`\n",
    "\n",
    "We will be using the model 'convnext_base_w' pretrained on 'laion2b_s13b_b82k' throughout this tutorial.\n",
    "\n",
    "Info and examples on how to use CLIP models for inference is provided in [openclip](https://github.com/mlfoundations/open_clip#usage)\n",
    "\n",
    "- [Learning Transferable Visual Models From Natural Language Supervision](https://arxiv.org/abs/2103.00020)\n",
    "- [Contrastive Language-Image Pretrained (CLIP) Models are Powerful Out-of-Distribution Detectors](https://arxiv.org/abs/2303.05828)\n",
    "\n",
    "\n",
    "\n",
    "# Part I. Basic imports"
   ]
  },
  {
   "cell_type": "code",
   "execution_count": 1,
   "metadata": {},
   "outputs": [],
   "source": [
    "import os\n",
    "from pathlib import Path\n",
    "from tqdm import tqdm\n",
    "import numpy as np\n",
    "from sklearn.cluster import KMeans\n",
    "import matplotlib.pyplot as plt\n",
    "from sklearn.metrics import roc_auc_score\n",
    "\n",
    "import torch\n",
    "import open_clip\n",
    "from torch import nn\n",
    "from torch.nn import functional as F\n",
    "import torchvision\n",
    "import torchvision.transforms as T\n",
    "from torch.utils.data import Subset, DataLoader, Dataset\n",
    "\n",
    "out_dir = Path('./features/').resolve()\n",
    "out_dir.mkdir(parents=True, exist_ok=True)\n",
    "# Local import\n",
    "from utils import *\n",
    "\n",
    "device = torch.device('cuda' if torch.cuda.is_available() else 'cpu')\n",
    "\n",
    "# Helper function\n",
    "def auroc_score(score_in, score_out):\n",
    "    if type(score_in) == torch.Tensor:\n",
    "        score_in = score_in.cpu().numpy()\n",
    "        score_out = score_out.cpu().numpy()\n",
    "    labels = np.concatenate((np.ones_like(score_in), np.zeros_like(score_out)))\n",
    "    return roc_auc_score(labels, np.concatenate((score_in, score_out))) * 100"
   ]
  },
  {
   "attachments": {},
   "cell_type": "markdown",
   "metadata": {},
   "source": [
    "# Part II. Get the visual features of the CLIP model\n",
    "\n",
    "- We will use `CIFAR100` as the in-distribution, and `CIFAR10` as the out-distribution.\n",
    "- When you are only loading the visual CLIP backbone, you must remove the final linear layer that projects the features to the shared feature space of the image-text encoder.\n",
    "- Load the data, compute the visual features and save them in the `features` folder.\n",
    "- For the in-distribution you need both the train and test split, while for the out-distribution, we will only use the validation split.\n",
    "\n",
    "\n",
    "### Optional structure\n",
    "\n",
    "```python\n",
    "def load_datasets(indist=\"CIFAR100\", ood=\"CIFAR10\", batch_size=256, tranform=None):\n",
    "    # ....\n",
    "    return indist_train_loader, indist_test_loader, ood_loader\n",
    "\n",
    "# visual is a boolean that controls whether the visual backbone is only returned or the whole CLIP model\n",
    "def get_model(visual, name, pretrained)\n",
    "    # .....\n",
    "    if visual:\n",
    "        return backbone, preprocess\n",
    "    return model, preprocess, tokenizer\n",
    "    \n",
    "# Load everything .......\n",
    "\n",
    "feats, labels = get_features(backbone, dl, device)\n",
    "# Save features \n",
    "# ....\n",
    "```"
   ]
  },
  {
   "cell_type": "code",
   "execution_count": 2,
   "metadata": {},
   "outputs": [],
   "source": [
    "### START CODE HERE ### (≈ 31 lines of code)\n",
    "def load_datasets(indist = \"CIFAR100\", ood = \"CIFAR10\", batch_size = 256, transform = None,num_workers = 0):\n",
    "    indist_train_ds = getattr(torchvision.datasets, indist)(train = True, download = True, root = './data', transform = transform)\n",
    "    indist_test_ds = getattr(torchvision.datasets, indist)(train = False, download = True, root = './data', transform = transform)\n",
    "    ood_ds = getattr(torchvision.datasets, ood)(train = False, download = True, root = './data', transform = transform)\n",
    "\n",
    "    indist_train_loader = DataLoader(indist_train_ds, batch_size=batch_size, shuffle = True, num_workers = num_workers)\n",
    "    indist_test_loader = DataLoader(indist_test_ds, batch_size=batch_size, shuffle = True, num_workers = num_workers)\n",
    "    ood_loader = DataLoader(ood_ds, batch_size=batch_size, shuffle = True, num_workers = num_workers)\n",
    "\n",
    "    return indist_train_loader, indist_test_loader, ood_loader\n",
    "\n",
    "def get_model(visual, name = 'convnext_base_w', pretrained  = 'laion2b_s13b_b82k'):\n",
    "    model,_,preprocess = open_clip.create_model_and_transforms(name,pretrained = pretrained)\n",
    "    tokenizer = open_clip.get_tokenizer(name)\n",
    "    if visual:\n",
    "        model = model.visual\n",
    "        model.head.proj = nn.Identity()\n",
    "\n",
    "    return model, preprocess, tokenizer\n",
    "\n"
   ]
  },
  {
   "cell_type": "code",
   "execution_count": null,
   "metadata": {},
   "outputs": [],
   "source": [
    "backbone,preprocess,tokenizer = get_model(visual = True)\n",
    "indist_train_loader, indist_test_loader, ood_loader = load_datasets(transform = preprocess)\n",
    "\n",
    "indist_train_features, indist_train_labels = get_features(backbone, indist_train_loader,device)\n",
    "indist_test_features, indist_test_labels = get_features(backbone, indist_test_loader,device)\n",
    "ood_features, ood_labels = get_features(backbone, ood_loader,device)\n",
    "\n",
    "torch.save(indist_train_features, 'features/cifar100_train_feats.pt')\n",
    "torch.save(indist_train_labels, 'features/cifar100_train_labels.pt')\n",
    "\n",
    "torch.save(indist_test_features, 'features/cifar100_test_feats.pt')\n",
    "torch.save(indist_test_labels, 'features/cifar100_test_labels.pt')\n",
    "\n",
    "torch.save(ood_features, 'features/cifar10_test_feats.pt')\n",
    "torch.save(ood_labels,'features/cifar10_test_labels.pt')\n",
    "\n",
    "\n",
    "### END CODE HERE ###\n",
    "\n",
    "# feature test\n",
    "for name, N in [('cifar100_train', 50000), ('cifar100_test', 10000), ('cifar10_test', 10000)]:\n",
    "    feats = torch.load(f'features/{name}_feats.pt')\n",
    "    labels = torch.load(f'features/{name}_labels.pt')\n",
    "    assert feats.shape == (N, 1024)\n",
    "    assert labels.shape == (N,)\n",
    "print('Success!')"
   ]
  },
  {
   "attachments": {},
   "cell_type": "markdown",
   "metadata": {},
   "source": [
    "# Part III. Compute the k-NN similarity as the OOD score\n",
    "\n",
    "- For each test image of in and out distribution compute the top-1 cosine similarity and use it as OOD score.\n",
    "- Report the resulting AUROC score.\n",
    "- Note: Use the image features and not the images!"
   ]
  },
  {
   "cell_type": "code",
   "execution_count": 9,
   "metadata": {},
   "outputs": [
    {
     "name": "stdout",
     "output_type": "stream",
     "text": [
      "CIFAR100-->CIFAR10 AUROC: 83.55\n"
     ]
    }
   ],
   "source": [
    "@torch.no_grad()\n",
    "def OOD_classifier_knn(train_features, test_features, k=1):\n",
    "    ### START CODE HERE ### (≈ 13 lines of code)\n",
    "    norm_train = nn.functional.normalize(train_features, dim =-1, p = 2)\n",
    "    norm_test = nn.functional.normalize(test_features, dim = -1,p = 2)\n",
    "    cos_sim,_ = torch.matmul(norm_test, norm_train.T).topk(k, largest=True, sorted=True, dim=-1)\n",
    "    ### END CODE HERE ###\n",
    "    return cos_sim \n",
    "\n",
    "# load the computed features and compute scores\n",
    "### START CODE HERE ### (≈ 5 lines of code)\n",
    "indist_train = torch.load('features/cifar100_train_feats.pt')\n",
    "indist_test = torch.load('features/cifar100_test_feats.pt')\n",
    "ood_test = torch.load('features/cifar10_test_feats.pt')\n",
    "score_in = OOD_classifier_knn(indist_train, indist_test)\n",
    "score_out =  OOD_classifier_knn(indist_train, ood_test)\n",
    "### END CODE HERE ###\n",
    "print(f'CIFAR100-->CIFAR10 AUROC: {auroc_score(score_in, score_out):.2f}')"
   ]
  },
  {
   "attachments": {},
   "cell_type": "markdown",
   "metadata": {},
   "source": [
    "### Expected result\n",
    "\n",
    "```\n",
    "CIFAR100-->CIFAR10 AUROC: 83.55\n",
    "```\n"
   ]
  },
  {
   "attachments": {},
   "cell_type": "markdown",
   "metadata": {},
   "source": [
    "# Part IV. Compute MSP using the text encoder and the label names\n",
    "\n",
    "We will now consider the case where the in-distribution label names are available.\n",
    "\n",
    "Your task is to apply zero-shot classification and get the maximum softmax probability (MSP) as the OOD score.\n",
    "\n",
    "In short:\n",
    "- compute image and text embeddings\n",
    "- compute the image-test similarity matrix (logits)\n",
    "- apply softmax to the logits for each image to get a probability distribution of the classes.\n",
    "- compute maximum softmax probability (MSP)\n",
    "\n",
    "- `Note`: After loading the saved image features you need to apply the linear projection layer from the visual backbone of CLIP"
   ]
  },
  {
   "cell_type": "code",
   "execution_count": 5,
   "metadata": {},
   "outputs": [
    {
     "name": "stdout",
     "output_type": "stream",
     "text": [
      "Files already downloaded and verified\n",
      "CIFAR100-->CIFAR10 AUROC: 84.18\n"
     ]
    }
   ],
   "source": [
    "### optional to use\n",
    "def compute_logits(model, text_embs, img_embs, device):\n",
    "    ### START CODE HERE ### (≈ 5 lines of code)\n",
    "    img_embs = img_embs.to(device)\n",
    "    img_embeds = model.visual.head.proj(img_embs)\n",
    "    img_embeds_norm = nn.functional.normalize(img_embeds, dim = -1, p = 2)\n",
    "    text_embeds_norm = nn.functional.normalize(text_embs, dim = -1 , p = 2)\n",
    "    logits = torch.matmul(img_embeds_norm, text_embeds_norm.T)\n",
    "    ### END CODE HERE ###\n",
    "    return logits\n",
    "\n",
    "### optional to use\n",
    "def compute_text_embeds(model, class_tokens):\n",
    "    ### START CODE HERE ### (≈ 3 lines of code)\n",
    "    text_embs = model.encode_text(class_tokens)\n",
    "    ### END CODE HERE ###\n",
    "    return text_embs\n",
    "\n",
    "def compute_msp(label_names, model, class_tokens, indist_test, ood_test, device):\n",
    "    ### START CODE HERE ### (≈ 7 lines of code)\n",
    "    text_embs = compute_text_embeds(model, class_tokens)\n",
    "    logits_in = compute_logits(model, text_embs, indist_test, device)\n",
    "    logits_out = compute_logits(model, text_embs, ood_test, device)\n",
    "\n",
    "    score_in = torch.nn.functional.softmax(logits_in, dim = 1).max(dim = 1)[0].detach()\n",
    "    score_out = torch.nn.functional.softmax(logits_out, dim = 1).max(dim = 1)[0].detach()\n",
    "    ### END CODE HERE ###\n",
    "    return score_in, score_out\n",
    "        \n",
    "\n",
    "# Load model and features\n",
    "### START CODE HERE ### (≈ 4 lines of code)\n",
    "indist_test = torch.load('features/cifar100_test_feats.pt')\n",
    "ood_test = torch.load('features/cifar10_test_feats.pt')\n",
    "model, preprocess, tokenizer = get_model(visual = False)\n",
    "model =model.to(device)\n",
    "### END CODE HERE ###\n",
    "\n",
    "### Provided \n",
    "label_names = torchvision.datasets.CIFAR100(root='../data', train=True, download=True).classes\n",
    "prompts = ['an image of a ' + lab.replace('_', ' ') for lab in label_names]\n",
    "class_tokens = tokenizer(prompts).to(device)\n",
    "score_in, score_out = compute_msp(label_names, model, class_tokens, indist_test, ood_test, device)\n",
    "print(f'CIFAR100-->CIFAR10 AUROC: {auroc_score(score_in, score_out):.2f}')"
   ]
  },
  {
   "attachments": {},
   "cell_type": "markdown",
   "metadata": {},
   "source": [
    "### Expected result\n",
    "\n",
    "```\n",
    "CIFAR100-->CIFAR10 AUROC: 76.38\n",
    "```\n"
   ]
  },
  {
   "attachments": {},
   "cell_type": "markdown",
   "metadata": {},
   "source": [
    "# Part V. Linear probing on the pseudolabels\n",
    "\n",
    "- Your task is to train a linear layer using the CLIP pseudolabels as targets.\n",
    "- The pseudolabels are the argmax of the logits computed above, i.e., take the class with the maximum probability as the class label"
   ]
  },
  {
   "cell_type": "code",
   "execution_count": 6,
   "metadata": {},
   "outputs": [
    {
     "name": "stderr",
     "output_type": "stream",
     "text": [
      "Ep 19/20: Accuracy : Train:99.66 \t Val:91.71 || Loss: Train 0.055 \t Val 0.229: 100%|██████████| 20/20 [00:13<00:00,  1.48it/s]"
     ]
    },
    {
     "name": "stdout",
     "output_type": "stream",
     "text": [
      "Model CLIP_best_max_train_acc.pth is loaded from epoch 19\n",
      "CIFAR100-->CIFAR10 AUROC: 75.90\n"
     ]
    },
    {
     "name": "stderr",
     "output_type": "stream",
     "text": [
      "\n"
     ]
    }
   ],
   "source": [
    "def compute_score_probe_msp(lin_layer, indist_loader, ood_loader, device):\n",
    "    \"\"\"\n",
    "    Computes the MSP scores for a linear layer for both in- and out- distribution.\n",
    "    \"\"\"\n",
    "    ### START CODE HERE ### (≈ 4 lines of code)\n",
    "    in_list = []\n",
    "    out_list = []\n",
    "    for imgs, _ in indist_loader:\n",
    "        imgs = imgs.to(device)\n",
    "        logits = lin_layer(imgs)\n",
    "        in_list.append(nn.functional.softmax(logits, dim = 1).max(dim = 1)[0].detach())\n",
    "\n",
    "    for imgs, _ in ood_loader:\n",
    "        imgs = imgs.to(device)\n",
    "        logits = lin_layer(imgs)\n",
    "        out_list.append(nn.functional.softmax(logits, dim = 1).max(dim = 1)[0].detach())\n",
    "\n",
    "    score_in = torch.cat(in_list)\n",
    "    score_out = torch.cat(out_list)\n",
    "\n",
    "    ### END CODE HERE ###\n",
    "    return score_in, score_out\n",
    "\n",
    "### START CODE HERE ### (≈ 17 lines of code) \n",
    "# get CLIP model\n",
    "# get text embeds from label names\n",
    "model, preprocess, tokenizer = get_model(visual = False)\n",
    "model =model.to(device)\n",
    "text_embeds = compute_text_embeds(model, class_tokens)\n",
    "# load features\n",
    "indist_train = torch.load('features/cifar100_train_feats.pt')\n",
    "indist_test = torch.load('features/cifar100_test_feats.pt')\n",
    "ood_test = torch.load('features/cifar10_test_feats.pt')\n",
    "# compute CLIP logits of image features based on text encoder\n",
    "logits_train = compute_logits(model, text_embeds, indist_train, device)\n",
    "logits_val = compute_logits(model,text_embeds, indist_test,device)\n",
    "# get target pseudo labels from CLIP logits\n",
    "pseudo_labels_train = logits_train.argmax(dim=1)\n",
    "pseudo_labels_val = logits_val.argmax(dim = 1)\n",
    "# create dataset and dataloaders for linear probing\n",
    "train_dataset = torch.utils.data.TensorDataset(indist_train, pseudo_labels_train)\n",
    "val_dataset = torch.utils.data.TensorDataset(indist_test,pseudo_labels_val)\n",
    "train_loader = torch.utils.data.DataLoader(train_dataset, batch_size = 128, shuffle = True, drop_last = False)\n",
    "val_loader = torch.utils.data.DataLoader(val_dataset, batch_size = 128, shuffle = True, drop_last = False)\n",
    "### END CODE HERE ###\n",
    "\n",
    "# The code below is provided based on our implementation. Optional to use!\n",
    "# Run linear probing\n",
    "embed_dim = train_dataset[0][0].shape[0]\n",
    "lin_layer = nn.Linear(embed_dim, 100).to(device)\n",
    "optimizer = torch.optim.Adam(lin_layer.parameters(), lr=1e-3)\n",
    "num_epochs = 20\n",
    "dict_log = linear_eval(lin_layer, optimizer, num_epochs, train_loader, val_loader, device)\n",
    "# compute MSP scores\n",
    "lin_layer = load_model(lin_layer, \"CLIP_best_max_train_acc.pth\")\n",
    "ood_dataset = torch.utils.data.TensorDataset(ood_test, torch.zeros(ood_test.shape[0], dtype=torch.long))\n",
    "ood_loader = torch.utils.data.DataLoader(ood_dataset, batch_size=128, shuffle=False, drop_last=False)\n",
    "score_in, score_out = compute_score_probe_msp(lin_layer, val_loader, ood_loader, device)\n",
    "print(f'CIFAR100-->CIFAR10 AUROC: {auroc_score(score_in, score_out):.2f}')"
   ]
  },
  {
   "attachments": {},
   "cell_type": "markdown",
   "metadata": {},
   "source": [
    "### Expected results\n",
    "\n",
    "AUROC may slightly vary due to random initialization of linear probing.\n",
    "```\n",
    "CIFAR100-->CIFAR10 AUROC: 74.81\n",
    "```"
   ]
  },
  {
   "attachments": {},
   "cell_type": "markdown",
   "metadata": {},
   "source": [
    "# Part VI. Mahalanobis distance as OOD score\n",
    "- Use the output of the linear layer from task 4 as features to compute the Mahalanobis distance and the relative Mahalanobis distance.\n",
    "- To compute the Mahalanobis distance group the features by their pseudolabels and compute the mean and covariance matrix for each class."
   ]
  },
  {
   "cell_type": "code",
   "execution_count": 7,
   "metadata": {},
   "outputs": [
    {
     "name": "stdout",
     "output_type": "stream",
     "text": [
      "Model CLIP_best_max_train_acc.pth is loaded from epoch 19\n",
      "Maha: CIFAR100-->CIFAR10 AUROC: 84.56\n",
      "Relative Maha: CIFAR100-->CIFAR10 AUROC: 88.72\n"
     ]
    }
   ],
   "source": [
    "### optional to use\n",
    "def calc_maha_distance(embeds, means_c, inv_cov_c):\n",
    "    diff = embeds - means_c\n",
    "    dist = np.matmul(diff,inv_cov_c)*diff\n",
    "    dist = np.sum(dist,axis=1)\n",
    "    return dist\n",
    "\n",
    "def OOD_classifier_maha(train_embeds_in, train_labels_in, test_embeds_in, test_embeds_outs, num_classes,\n",
    "                        relative=False):\n",
    "    # optional to use our code!\n",
    "    class_covs = []\n",
    "    class_means = []\n",
    "    used_classes = 0\n",
    "    if type(train_labels_in) == torch.Tensor:\n",
    "        train_labels_in = train_labels_in.cpu().numpy()\n",
    "    if type(train_embeds_in) == torch.Tensor:\n",
    "        train_embeds_in = train_embeds_in.cpu().numpy()\n",
    "        test_embeds_in = test_embeds_in.cpu().numpy()\n",
    "        test_embeds_outs = test_embeds_outs.cpu().numpy()\n",
    "    ### START CODE HERE ### (≈ 23 lines of code)\n",
    "    # calculate class-wise means and covariances\n",
    "    classes = np.unique(train_labels_in)\n",
    "    N = train_embeds_in.shape[0]\n",
    "    for c in classes:\n",
    "        embeds_c = train_embeds_in[train_labels_in == c]\n",
    "        mu_c = np.mean(embeds_c, axis = 0)\n",
    "        class_means.append(mu_c)\n",
    "        sigma_c = np.cov((embeds_c - (mu_c.reshape([1,-1]))).T )\n",
    "        # sigma_c = (embeds_c-mu_c).T@(embeds_c-mu_c)\n",
    "        class_covs.append(sigma_c)\n",
    "        used_classes +=1\n",
    "\n",
    "    # estimating the global std from train data\n",
    "    sigma = (1/used_classes)*np.sum(class_covs, axis = 0)\n",
    "    sigma_inv = np.linalg.inv(sigma)\n",
    "    # RMD: subtracting the average train score if relative is True\n",
    "    if relative:\n",
    "        mu_0 = np.mean(train_embeds_in, axis = 0)\n",
    "        # sigma_0 = (1/N)* ((train_embeds_in - mu_0).T @ (train_embeds_in - mu_0))\n",
    "        sigma_0_inv = np.linalg.inv(np.cov((train_embeds_in-mu_0.reshape([1,-1])).T))\n",
    "\n",
    "        in_center = calc_maha_distance(test_embeds_in, mu_0, sigma_0_inv)\n",
    "        out_center = calc_maha_distance(test_embeds_outs, mu_0, sigma_0_inv)\n",
    "    else:\n",
    "        in_center = np.zeros(test_embeds_in.shape[0])\n",
    "        out_center = np.zeros(test_embeds_outs.shape[0])\n",
    "\n",
    "    # Get OOD score for each datapoint\n",
    "    all_scores_in = []\n",
    "    all_scores_out = []\n",
    "    for i,c in enumerate(classes):\n",
    "        md_in = calc_maha_distance(test_embeds_in,class_means[i],sigma_inv) - in_center\n",
    "        md_out = calc_maha_distance(test_embeds_outs,class_means[i],sigma_inv) - out_center\n",
    "\n",
    "        all_scores_in.append(md_in)\n",
    "        all_scores_out.append(md_out)\n",
    "\n",
    "    \n",
    "    all_scores_in = np.stack(all_scores_in)\n",
    "    all_scores_out = np.stack(all_scores_out)\n",
    " \n",
    "    scores_in = -np.min(all_scores_in, axis = 0)\n",
    "    scores_out = -np.min(all_scores_out, axis = 0)\n",
    "    ### END CODE HERE ###\n",
    "    return scores_in, scores_out\n",
    "\n",
    "# The code below is provided based on our implementation. Optional to use!\n",
    "num_classes = 100\n",
    "lin_layer = load_model(lin_layer, \"CLIP_best_max_train_acc.pth\")\n",
    "logits_indist_train, indist_pseudolabels_train = get_features(lin_layer, train_loader, device)\n",
    "logits_indist_test, indist_pseudolabels_test = get_features(lin_layer, val_loader, device)\n",
    "logits_ood, _ = get_features(lin_layer, ood_loader, device)\n",
    "# convert to numpy\n",
    "indist_pseudolabels_train = indist_pseudolabels_train.cpu().numpy()\n",
    "indist_pseudolabels_test = indist_pseudolabels_test.cpu().numpy()\n",
    "logits_indist_train = logits_indist_train.cpu().numpy()\n",
    "logits_indist_test = logits_indist_test.cpu().numpy()\n",
    "logits_ood = logits_ood.cpu().numpy()\n",
    "\n",
    "# run OOD classifier based on mahalanobis distance\n",
    "scores_in, scores_out = OOD_classifier_maha(logits_indist_train, indist_pseudolabels_train, \n",
    "                                            logits_indist_test, logits_ood, num_classes, relative=False)\n",
    "print(f'Maha: CIFAR100-->CIFAR10 AUROC: {auroc_score(scores_in, scores_out):.2f}')\n",
    "scores_in, scores_out = OOD_classifier_maha(logits_indist_train, indist_pseudolabels_train, \n",
    "                                            logits_indist_test, logits_ood, num_classes, relative=True)\n",
    "print(f'Relative Maha: CIFAR100-->CIFAR10 AUROC: {auroc_score(scores_in, scores_out):.2f}')                                    "
   ]
  },
  {
   "attachments": {},
   "cell_type": "markdown",
   "metadata": {},
   "source": [
    "### Expected results\n",
    "(can differ based on linear probing performance)\n",
    "\n",
    "```\n",
    "Maha: CIFAR100-->CIFAR10 AUROC: 83.31\n",
    "Relative Maha: CIFAR100-->CIFAR10 AUROC: 80.88\n",
    "```"
   ]
  },
  {
   "attachments": {},
   "cell_type": "markdown",
   "metadata": {},
   "source": [
    "# Part VII. Mahalanobis distance using the real labels without linear probing\n",
    "- Again, compute the (relative) Mahalanobis distance as OOD score\n",
    "- This time, instead of using the pseudolabels and output of the linear probing layer, use the real labels of the training data and the features computed in task 1"
   ]
  },
  {
   "cell_type": "code",
   "execution_count": 156,
   "metadata": {},
   "outputs": [
    {
     "name": "stdout",
     "output_type": "stream",
     "text": [
      "Maha: CIFAR100-->CIFAR10 AUROC: 71.70\n",
      "Relative Maha: CIFAR100-->CIFAR10 AUROC: 73.67\n"
     ]
    }
   ],
   "source": [
    "### START CODE HERE ### (≈ 7 lines of code)\n",
    "# load features\n",
    "indist_train = torch.load('features/cifar100_train_feats.pt').cpu().numpy()\n",
    "indist_test = torch.load('features/cifar100_test_feats.pt').cpu().numpy()\n",
    "ood_test = torch.load('features/cifar10_test_feats.pt').cpu().numpy()\n",
    "# load labels\n",
    "indist_train_labels = torch.load('features/cifar100_train_labels.pt')\n",
    "# run OOD classifier based on mahalanobis distance\n",
    "scores_md_in, scores_md_out = OOD_classifier_maha(indist_train,indist_train_labels,indist_test,ood_test,num_classes,relative = False)\n",
    "scores_rmd_in, scores_rmd_out = OOD_classifier_maha(indist_train,indist_train_labels,indist_test,ood_test,num_classes,relative = True)\n",
    "### END CODE HERE ###\n",
    "print(f'Maha: CIFAR100-->CIFAR10 AUROC: {auroc_score(scores_md_in, scores_md_out):.2f}')\n",
    "print(f'Relative Maha: CIFAR100-->CIFAR10 AUROC: {auroc_score(scores_rmd_in, scores_rmd_out):.2f}')"
   ]
  },
  {
   "attachments": {},
   "cell_type": "markdown",
   "metadata": {},
   "source": [
    "### Expected results\n",
    "```\n",
    "Maha: CIFAR100-->CIFAR10 AUROC: 71.71\n",
    "Relative Maha: CIFAR100-->CIFAR10 AUROC: 84.93\n",
    "```"
   ]
  },
  {
   "attachments": {},
   "cell_type": "markdown",
   "metadata": {},
   "source": [
    "# Part VIII. K-means clusters combined with Mahalanobis distance\n",
    "\n",
    "The paper [SSD: A Unified Framework for Self-Supervised Outlier Detection](https://arxiv.org/abs/2103.12051) has proposed another unsupervised method for OOD detection. Instead of using the (real or pseudo) labels as class-wise means, we will now use the obtained clusters as found be kmeans. In more detail:\n",
    "\n",
    "- Find k=10,50,100 clusters using Kmeans on the in-distribution training data (you can use the sklearn KMeans implementation).\n",
    "- Get the cluster centers.\n",
    "- Use them as class-wise means for the mahalanobis distance classifier."
   ]
  },
  {
   "cell_type": "code",
   "execution_count": 8,
   "metadata": {},
   "outputs": [
    {
     "name": "stdout",
     "output_type": "stream",
     "text": [
      "10\n"
     ]
    },
    {
     "ename": "",
     "evalue": "",
     "output_type": "error",
     "traceback": [
      "\u001b[1;31mCannot execute code, session has been disposed. Please try restarting the Kernel."
     ]
    },
    {
     "ename": "",
     "evalue": "",
     "output_type": "error",
     "traceback": [
      "\u001b[1;31mThe Kernel crashed while executing code in the the current cell or a previous cell. Please review the code in the cell(s) to identify a possible cause of the failure. Click <a href='https://aka.ms/vscodeJupyterKernelCrash'>here</a> for more info. View Jupyter <a href='command:jupyter.viewOutput'>log</a> for further details."
     ]
    }
   ],
   "source": [
    "# The code below is provided based on our implementation. Optional to use!\n",
    "# load features - modify names if you use different names\n",
    "indist_train = torch.load('features/cifar100_train_feats.pt').cpu().numpy()\n",
    "indist_test = torch.load('features/cifar100_test_feats.pt').cpu().numpy()\n",
    "ood_test = torch.load('features/cifar10_test_feats.pt').cpu().numpy()\n",
    "results_md = []\n",
    "results_rmd = []\n",
    "for N in [10,50,100]:\n",
    "    ### START CODE HERE ### (≈ 7 lines of code)\n",
    "    print(N)\n",
    "    kmeans = KMeans(n_clusters = N, n_init = 'auto').fit(indist_train)\n",
    "    print(f'{N} fitted')\n",
    "    train_labels = kmeans.labels_\n",
    "    print(f'{N} Labels calculated')\n",
    "    scores_md_in, scores_md_out = OOD_classifier_maha(indist_train, train_labels,indist_test,ood_test, num_classes = N, relative = False)\n",
    "    print(f'{N} md scores calced')\n",
    "    scores_rmd_in, scores_rmd_out = OOD_classifier_maha(indist_train, train_labels,indist_test,ood_test, num_classes = N, relative = True)\n",
    "    print(f'{N} rmd scores calced')\n",
    "    ### END CODE HERE ###\n",
    "    print(f'Kmeans (k={N}) + MD: CIFAR100-->CIFAR10 AUROC: {auroc_score(scores_md_in, scores_md_out):.2f}')\n",
    "    print(f'Kmeans (k={N}) + RMD: CIFAR100-->CIFAR10 AUROC: {auroc_score(scores_rmd_in, scores_rmd_out):.2f}')\n",
    "    print(\"-\"*100)"
   ]
  },
  {
   "attachments": {},
   "cell_type": "markdown",
   "metadata": {},
   "source": [
    "### Expected results\n",
    "Can differ based on KMenas performance.\n",
    "```\n",
    "Kmeans (k=10) + MD: CIFAR100-->CIFAR10 AUROC: 67.87\n",
    "Kmeans (k=10) + RMD: CIFAR100-->CIFAR10 AUROC: 42.38\n",
    "----------------------------------------------------------------------------------------------------\n",
    "Kmeans (k=50) + MD: CIFAR100-->CIFAR10 AUROC: 72.18\n",
    "Kmeans (k=50) + RMD: CIFAR100-->CIFAR10 AUROC: 58.73\n",
    "----------------------------------------------------------------------------------------------------\n",
    "Kmeans (k=100) + MD: CIFAR100-->CIFAR10 AUROC: 72.84\n",
    "Kmeans (k=100) + RMD: CIFAR100-->CIFAR10 AUROC: 68.59\n",
    "----------------------------------------------------------------------------------------------------\n",
    "```"
   ]
  },
  {
   "attachments": {},
   "cell_type": "markdown",
   "metadata": {
    "id": "RK4j971u_4yu"
   },
   "source": [
    "That's the end of this exercise. If you reached this point, **congratulations**!"
   ]
  },
  {
   "attachments": {},
   "cell_type": "markdown",
   "metadata": {},
   "source": []
  }
 ],
 "metadata": {
  "accelerator": "GPU",
  "colab": {
   "machine_shape": "hm",
   "name": "[Exercise 3 solution] - Self-distillation on CIFAR100 .ipynb",
   "provenance": []
  },
  "kernelspec": {
   "display_name": "Python 3",
   "language": "python",
   "name": "python3"
  },
  "language_info": {
   "codemirror_mode": {
    "name": "ipython",
    "version": 3
   },
   "file_extension": ".py",
   "mimetype": "text/x-python",
   "name": "python",
   "nbconvert_exporter": "python",
   "pygments_lexer": "ipython3",
   "version": "3.10.10"
  },
  "vscode": {
   "interpreter": {
    "hash": "dc5fcf396fe0abd4fa852aee332a0572494dcaf5776820055c87d9b84157f362"
   }
  },
  "widgets": {
   "application/vnd.jupyter.widget-state+json": {
    "15451b89dea54127867d368514cfea78": {
     "model_module": "@jupyter-widgets/base",
     "model_module_version": "1.2.0",
     "model_name": "LayoutModel",
     "state": {
      "_model_module": "@jupyter-widgets/base",
      "_model_module_version": "1.2.0",
      "_model_name": "LayoutModel",
      "_view_count": null,
      "_view_module": "@jupyter-widgets/base",
      "_view_module_version": "1.2.0",
      "_view_name": "LayoutView",
      "align_content": null,
      "align_items": null,
      "align_self": null,
      "border": null,
      "bottom": null,
      "display": null,
      "flex": null,
      "flex_flow": null,
      "grid_area": null,
      "grid_auto_columns": null,
      "grid_auto_flow": null,
      "grid_auto_rows": null,
      "grid_column": null,
      "grid_gap": null,
      "grid_row": null,
      "grid_template_areas": null,
      "grid_template_columns": null,
      "grid_template_rows": null,
      "height": null,
      "justify_content": null,
      "justify_items": null,
      "left": null,
      "margin": null,
      "max_height": null,
      "max_width": null,
      "min_height": null,
      "min_width": null,
      "object_fit": null,
      "object_position": null,
      "order": null,
      "overflow": null,
      "overflow_x": null,
      "overflow_y": null,
      "padding": null,
      "right": null,
      "top": null,
      "visibility": null,
      "width": null
     }
    },
    "4d335008de124ef1890de5087a8254f8": {
     "model_module": "@jupyter-widgets/controls",
     "model_module_version": "1.5.0",
     "model_name": "HTMLModel",
     "state": {
      "_dom_classes": [],
      "_model_module": "@jupyter-widgets/controls",
      "_model_module_version": "1.5.0",
      "_model_name": "HTMLModel",
      "_view_count": null,
      "_view_module": "@jupyter-widgets/controls",
      "_view_module_version": "1.5.0",
      "_view_name": "HTMLView",
      "description": "",
      "description_tooltip": null,
      "layout": "IPY_MODEL_15451b89dea54127867d368514cfea78",
      "placeholder": "​",
      "style": "IPY_MODEL_a1a228b8e820488aa9d7a39326832b43",
      "value": ""
     }
    },
    "5c84f8f441eb4b65a2947a8b0076b78c": {
     "model_module": "@jupyter-widgets/base",
     "model_module_version": "1.2.0",
     "model_name": "LayoutModel",
     "state": {
      "_model_module": "@jupyter-widgets/base",
      "_model_module_version": "1.2.0",
      "_model_name": "LayoutModel",
      "_view_count": null,
      "_view_module": "@jupyter-widgets/base",
      "_view_module_version": "1.2.0",
      "_view_name": "LayoutView",
      "align_content": null,
      "align_items": null,
      "align_self": null,
      "border": null,
      "bottom": null,
      "display": null,
      "flex": null,
      "flex_flow": null,
      "grid_area": null,
      "grid_auto_columns": null,
      "grid_auto_flow": null,
      "grid_auto_rows": null,
      "grid_column": null,
      "grid_gap": null,
      "grid_row": null,
      "grid_template_areas": null,
      "grid_template_columns": null,
      "grid_template_rows": null,
      "height": null,
      "justify_content": null,
      "justify_items": null,
      "left": null,
      "margin": null,
      "max_height": null,
      "max_width": null,
      "min_height": null,
      "min_width": null,
      "object_fit": null,
      "object_position": null,
      "order": null,
      "overflow": null,
      "overflow_x": null,
      "overflow_y": null,
      "padding": null,
      "right": null,
      "top": null,
      "visibility": null,
      "width": null
     }
    },
    "947edc38a98549e79c0906847f20560b": {
     "model_module": "@jupyter-widgets/controls",
     "model_module_version": "1.5.0",
     "model_name": "DescriptionStyleModel",
     "state": {
      "_model_module": "@jupyter-widgets/controls",
      "_model_module_version": "1.5.0",
      "_model_name": "DescriptionStyleModel",
      "_view_count": null,
      "_view_module": "@jupyter-widgets/base",
      "_view_module_version": "1.2.0",
      "_view_name": "StyleView",
      "description_width": ""
     }
    },
    "9bb9f2adc1f4480ba6ae6b390eda4521": {
     "model_module": "@jupyter-widgets/base",
     "model_module_version": "1.2.0",
     "model_name": "LayoutModel",
     "state": {
      "_model_module": "@jupyter-widgets/base",
      "_model_module_version": "1.2.0",
      "_model_name": "LayoutModel",
      "_view_count": null,
      "_view_module": "@jupyter-widgets/base",
      "_view_module_version": "1.2.0",
      "_view_name": "LayoutView",
      "align_content": null,
      "align_items": null,
      "align_self": null,
      "border": null,
      "bottom": null,
      "display": null,
      "flex": null,
      "flex_flow": null,
      "grid_area": null,
      "grid_auto_columns": null,
      "grid_auto_flow": null,
      "grid_auto_rows": null,
      "grid_column": null,
      "grid_gap": null,
      "grid_row": null,
      "grid_template_areas": null,
      "grid_template_columns": null,
      "grid_template_rows": null,
      "height": null,
      "justify_content": null,
      "justify_items": null,
      "left": null,
      "margin": null,
      "max_height": null,
      "max_width": null,
      "min_height": null,
      "min_width": null,
      "object_fit": null,
      "object_position": null,
      "order": null,
      "overflow": null,
      "overflow_x": null,
      "overflow_y": null,
      "padding": null,
      "right": null,
      "top": null,
      "visibility": null,
      "width": null
     }
    },
    "a0db04ae470a41c098cb9b59a67e899b": {
     "model_module": "@jupyter-widgets/base",
     "model_module_version": "1.2.0",
     "model_name": "LayoutModel",
     "state": {
      "_model_module": "@jupyter-widgets/base",
      "_model_module_version": "1.2.0",
      "_model_name": "LayoutModel",
      "_view_count": null,
      "_view_module": "@jupyter-widgets/base",
      "_view_module_version": "1.2.0",
      "_view_name": "LayoutView",
      "align_content": null,
      "align_items": null,
      "align_self": null,
      "border": null,
      "bottom": null,
      "display": null,
      "flex": null,
      "flex_flow": null,
      "grid_area": null,
      "grid_auto_columns": null,
      "grid_auto_flow": null,
      "grid_auto_rows": null,
      "grid_column": null,
      "grid_gap": null,
      "grid_row": null,
      "grid_template_areas": null,
      "grid_template_columns": null,
      "grid_template_rows": null,
      "height": null,
      "justify_content": null,
      "justify_items": null,
      "left": null,
      "margin": null,
      "max_height": null,
      "max_width": null,
      "min_height": null,
      "min_width": null,
      "object_fit": null,
      "object_position": null,
      "order": null,
      "overflow": null,
      "overflow_x": null,
      "overflow_y": null,
      "padding": null,
      "right": null,
      "top": null,
      "visibility": null,
      "width": null
     }
    },
    "a1a228b8e820488aa9d7a39326832b43": {
     "model_module": "@jupyter-widgets/controls",
     "model_module_version": "1.5.0",
     "model_name": "DescriptionStyleModel",
     "state": {
      "_model_module": "@jupyter-widgets/controls",
      "_model_module_version": "1.5.0",
      "_model_name": "DescriptionStyleModel",
      "_view_count": null,
      "_view_module": "@jupyter-widgets/base",
      "_view_module_version": "1.2.0",
      "_view_name": "StyleView",
      "description_width": ""
     }
    },
    "a83800177edb46bdb5789bd0507c55b1": {
     "model_module": "@jupyter-widgets/controls",
     "model_module_version": "1.5.0",
     "model_name": "FloatProgressModel",
     "state": {
      "_dom_classes": [],
      "_model_module": "@jupyter-widgets/controls",
      "_model_module_version": "1.5.0",
      "_model_name": "FloatProgressModel",
      "_view_count": null,
      "_view_module": "@jupyter-widgets/controls",
      "_view_module_version": "1.5.0",
      "_view_name": "ProgressView",
      "bar_style": "success",
      "description": "",
      "description_tooltip": null,
      "layout": "IPY_MODEL_9bb9f2adc1f4480ba6ae6b390eda4521",
      "max": 169001437,
      "min": 0,
      "orientation": "horizontal",
      "style": "IPY_MODEL_d6ea4f8b6c304a279b56769a81897f5f",
      "value": 169001437
     }
    },
    "aca8ccf946814899be23fad49d4c4ecb": {
     "model_module": "@jupyter-widgets/controls",
     "model_module_version": "1.5.0",
     "model_name": "HTMLModel",
     "state": {
      "_dom_classes": [],
      "_model_module": "@jupyter-widgets/controls",
      "_model_module_version": "1.5.0",
      "_model_name": "HTMLModel",
      "_view_count": null,
      "_view_module": "@jupyter-widgets/controls",
      "_view_module_version": "1.5.0",
      "_view_name": "HTMLView",
      "description": "",
      "description_tooltip": null,
      "layout": "IPY_MODEL_a0db04ae470a41c098cb9b59a67e899b",
      "placeholder": "​",
      "style": "IPY_MODEL_947edc38a98549e79c0906847f20560b",
      "value": " 169001984/? [00:10&lt;00:00, 16869945.76it/s]"
     }
    },
    "ae807dfd8be647d29b923f286caa47c4": {
     "model_module": "@jupyter-widgets/controls",
     "model_module_version": "1.5.0",
     "model_name": "HBoxModel",
     "state": {
      "_dom_classes": [],
      "_model_module": "@jupyter-widgets/controls",
      "_model_module_version": "1.5.0",
      "_model_name": "HBoxModel",
      "_view_count": null,
      "_view_module": "@jupyter-widgets/controls",
      "_view_module_version": "1.5.0",
      "_view_name": "HBoxView",
      "box_style": "",
      "children": [
       "IPY_MODEL_4d335008de124ef1890de5087a8254f8",
       "IPY_MODEL_a83800177edb46bdb5789bd0507c55b1",
       "IPY_MODEL_aca8ccf946814899be23fad49d4c4ecb"
      ],
      "layout": "IPY_MODEL_5c84f8f441eb4b65a2947a8b0076b78c"
     }
    },
    "d6ea4f8b6c304a279b56769a81897f5f": {
     "model_module": "@jupyter-widgets/controls",
     "model_module_version": "1.5.0",
     "model_name": "ProgressStyleModel",
     "state": {
      "_model_module": "@jupyter-widgets/controls",
      "_model_module_version": "1.5.0",
      "_model_name": "ProgressStyleModel",
      "_view_count": null,
      "_view_module": "@jupyter-widgets/base",
      "_view_module_version": "1.2.0",
      "_view_name": "StyleView",
      "bar_color": null,
      "description_width": ""
     }
    }
   }
  }
 },
 "nbformat": 4,
 "nbformat_minor": 1
}
